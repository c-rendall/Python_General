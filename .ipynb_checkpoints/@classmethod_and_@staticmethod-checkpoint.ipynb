{
 "cells": [
  {
   "cell_type": "markdown",
   "metadata": {},
   "source": [
    "### @classmethod"
   ]
  },
  {
   "cell_type": "markdown",
   "metadata": {},
   "source": [
    "The decorator @classmethod exists so that we can create class methods that are passed to the actual class object within the function call, like how `self` is passed to any other ordinary instance method in a class.  \n",
    "\n",
    "@classmethod methods also have a mandatory first argument, but this isn't a class instance, but rather the uninstantiated class itself.  Here's an example: "
   ]
  },
  {
   "cell_type": "code",
   "execution_count": 5,
   "metadata": {},
   "outputs": [],
   "source": [
    "# Typical class method\n",
    "class Student1(object):\n",
    "    \n",
    "    def __init__(self, first_name, last_name):\n",
    "        self.first_name = first_name\n",
    "        self.last_name = last_name\n",
    "        \n",
    "scott = Student1('Scott', 'Robinson')"
   ]
  },
  {
   "cell_type": "markdown",
   "metadata": {},
   "source": [
    "A similar @classmethod would be used instead like this: "
   ]
  },
  {
   "cell_type": "code",
   "execution_count": 9,
   "metadata": {},
   "outputs": [
    {
     "name": "stdout",
     "output_type": "stream",
     "text": [
      "Student Class Attributes: name =  unknown\n"
     ]
    }
   ],
   "source": [
    "class Student2(object):\n",
    "    \n",
    "    name = 'unknown'\n",
    "    def __init__(self):\n",
    "        self.age = 20\n",
    "\n",
    "    @classmethod\n",
    "    def tostring(cls): \n",
    "        print('Student Class Attributes: name = ', cls.name)\n",
    "\n",
    "Student2.tostring()"
   ]
  },
  {
   "cell_type": "markdown",
   "metadata": {},
   "source": [
    "### @staticmethod "
   ]
  },
  {
   "cell_type": "markdown",
   "metadata": {},
   "source": [
    "The @staticmethod decorator is similar to @classmethod in that it can be called from an uninstantiated class object, although in this case there is no cls parameter passed to its method. So an example might look like this:"
   ]
  },
  {
   "cell_type": "code",
   "execution_count": 10,
   "metadata": {},
   "outputs": [
    {
     "data": {
      "text/plain": [
       "True"
      ]
     },
     "execution_count": 10,
     "metadata": {},
     "output_type": "execute_result"
    }
   ],
   "source": [
    "# @staticmethod example\n",
    "class Student(object):\n",
    "    \n",
    "    @staticmethod\n",
    "    def is_full_name(name_str):\n",
    "        names = name_str.split(' ')\n",
    "        return len(names) > 1\n",
    "    \n",
    "Student.is_full_name('Scott Robison')"
   ]
  },
  {
   "cell_type": "code",
   "execution_count": 11,
   "metadata": {},
   "outputs": [
    {
     "data": {
      "text/plain": [
       "False"
      ]
     },
     "execution_count": 11,
     "metadata": {},
     "output_type": "execute_result"
    }
   ],
   "source": [
    "Student.is_full_name('Scott')"
   ]
  },
  {
   "cell_type": "markdown",
   "metadata": {},
   "source": [
    "Since no self object is passed either, that means we also don't have access to any instance data, and thus this method can not be called on an instantiated object either.\n",
    "\n",
    "These types of methods aren't typically meant to create/instantiate objects, but they may contain some type of logic pertaining to the class itself, like a helper or utility method."
   ]
  },
  {
   "cell_type": "markdown",
   "metadata": {},
   "source": [
    "### @classmethod vs @staticmethod"
   ]
  },
  {
   "cell_type": "markdown",
   "metadata": {},
   "source": [
    "The most obvious thing between these decorators is their ability to create static methods within a class. These types of methods can be called on uninstantiated class objects, much like classes using the static keyword in Java.\n",
    "\n",
    "There is really only one difference between these two method decorators, but it's a major one. You probably noticed in the sections above that @classmethod methods have a cls parameter sent to their methods, while @staticmethod methods do not."
   ]
  },
  {
   "cell_type": "markdown",
   "metadata": {},
   "source": [
    "This cls parameter is the class object we talked about, which allows @classmethod methods to easily instantiate the class, regardless of any inheritance going on. The lack of this cls parameter in @staticmethod methods make them true static methods in the traditional sense. They're main purpose is to contain logic pertaining to the class, but that logic should not have any need for specific class instance data."
   ]
  },
  {
   "cell_type": "code",
   "execution_count": 13,
   "metadata": {},
   "outputs": [
    {
     "name": "stdout",
     "output_type": "stream",
     "text": [
      "Got grades: [90, 80, 85, 94, 70]\n",
      "Ivalid!\n"
     ]
    }
   ],
   "source": [
    "# Longer example\n",
    "class ClassGrades: \n",
    "    \n",
    "    def __init__(self, grades):\n",
    "        self.grades = grades\n",
    "        \n",
    "    @classmethod\n",
    "    def from_csv(cls, grade_csv_str):\n",
    "        grades = list(map(int, grade_csv_str.split(', ')))\n",
    "        cls.validate(grades)\n",
    "        return cls(grades)\n",
    "    \n",
    "    @staticmethod\n",
    "    def validate(grades):\n",
    "        for g in grades: \n",
    "            if g < 0 or g > 100: \n",
    "                raise Exception()\n",
    "                \n",
    "try: \n",
    "    # Try some valid grades \n",
    "    class_grades_valid = ClassGrades.from_csv('90, 80, 85, 94, 70')\n",
    "    print('Got grades:', class_grades_valid.grades)\n",
    "    \n",
    "    #  Should fail with invalid grades \n",
    "    class_grades_invalid = ClassGrades.from_csv('92, -15, 99, 101, 77, 65, 100')\n",
    "    print(class_grades_invalid.grades)\n",
    "except: \n",
    "    print('Ivalid!')"
   ]
  },
  {
   "cell_type": "markdown",
   "metadata": {},
   "source": [
    "Notice how the static methods can even work together with from_csv calling validate using the cls object. Running the code above should print out an array of valid grades, and then fail on the second attempt, thus printing out \"Invalid!\""
   ]
  }
 ],
 "metadata": {
  "kernelspec": {
   "display_name": "Python 3",
   "language": "python",
   "name": "python3"
  },
  "language_info": {
   "codemirror_mode": {
    "name": "ipython",
    "version": 3
   },
   "file_extension": ".py",
   "mimetype": "text/x-python",
   "name": "python",
   "nbconvert_exporter": "python",
   "pygments_lexer": "ipython3",
   "version": "3.7.4"
  }
 },
 "nbformat": 4,
 "nbformat_minor": 2
}
