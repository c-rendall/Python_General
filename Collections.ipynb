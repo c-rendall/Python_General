{
 "cells": [
  {
   "cell_type": "markdown",
   "metadata": {},
   "source": [
    "### 1. Introduction "
   ]
  },
  {
   "cell_type": "markdown",
   "metadata": {},
   "source": [
    "Often for people starting out in data science using Python, we are familiar with the standard libraries of pandas, scikit-learn, NumPy, etc.  But there are many tools we can use from the Python standard library that are not as commonly mentioned as others.  The Python Collections module contains several extremely useful extra features and data types that we can to make our coding more powerful.  "
   ]
  },
  {
   "cell_type": "markdown",
   "metadata": {},
   "source": [
    "### 2. `namedtuple`"
   ]
  },
  {
   "cell_type": "markdown",
   "metadata": {},
   "source": [
    "We can use `namedtuple` to represent a small, simple class with no methods.  This gives code readability, makes debugging easier, and saves classes on every tiny object.  Here's an example: "
   ]
  },
  {
   "cell_type": "code",
   "execution_count": 5,
   "metadata": {},
   "outputs": [],
   "source": [
    "# Example of namedtuple\n",
    "from collections import namedtuple\n",
    "import math\n",
    "\n",
    "# Create instance of namedtuple\n",
    "dot = namedtuple('dot', 'x y')\n",
    "\n",
    "# Create two points\n",
    "p1, p2 = dot(3, 0), dot(0, 5)\n",
    "\n",
    "# Create distance function to return the Euclidean distance \n",
    "def distance(p1, p2):\n",
    "    x_dist = math.pow((p1.x - p2.x), 2)\n",
    "    y_dist = math.pow((p1.y - p2.y), 2)\n",
    "    return math.sqrt((x_dist + y_dist))"
   ]
  },
  {
   "cell_type": "code",
   "execution_count": 6,
   "metadata": {},
   "outputs": [
    {
     "data": {
      "text/plain": [
       "5.830951894845301"
      ]
     },
     "execution_count": 6,
     "metadata": {},
     "output_type": "execute_result"
    }
   ],
   "source": [
    "distance(p1, p2)"
   ]
  },
  {
   "cell_type": "markdown",
   "metadata": {},
   "source": [
    "We see here that by using `namedtuple`, the function addresses `p1` and `p2` by name and not location like a standard tuple.  This makes our code more readable.  "
   ]
  },
  {
   "cell_type": "markdown",
   "metadata": {},
   "source": [
    "### 3. `deque`"
   ]
  },
  {
   "cell_type": "markdown",
   "metadata": {},
   "source": [
    "When working with lists, if we want to pop or append something, this has time complexity O(1), but only for the **standard** pop and append.  Lists are great for LIFO (last in first out), but really bad for FIFO (first in first out), popping location `n` from a list or inserting to a specific location is O(n)!  This is what makes `deque` so powerful.  We can pop or append at either end of the list in O(1) complexity.  Here's an example:"
   ]
  },
  {
   "cell_type": "code",
   "execution_count": 7,
   "metadata": {},
   "outputs": [
    {
     "name": "stdout",
     "output_type": "stream",
     "text": [
      "deque([0, 1, 2, 3, 4])\n",
      "deque([1, 2, 3, 4])\n",
      "deque([4, 1, 2, 3])\n"
     ]
    }
   ],
   "source": [
    "# Example of deque\n",
    "from collections import deque\n",
    "\n",
    "# Create a deque \n",
    "improved_list = deque([1, 2, 3, 4])\n",
    "\n",
    "# Insert at O(1)\n",
    "improved_list.appendleft(0)\n",
    "print(improved_list)\n",
    "\n",
    "# Pop at O(1)\n",
    "improved_list.popleft()\n",
    "print(improved_list)\n",
    "\n",
    "# Change starting point, keeping the order \n",
    "improved_list.rotate(1)\n",
    "print(improved_list)"
   ]
  },
  {
   "cell_type": "markdown",
   "metadata": {},
   "source": [
    "### 4. `Counter` "
   ]
  },
  {
   "cell_type": "markdown",
   "metadata": {},
   "source": [
    "The `Counter` is a simple and effective object that counts, taking the form of a dictionary.  Here's an example: "
   ]
  },
  {
   "cell_type": "code",
   "execution_count": 8,
   "metadata": {},
   "outputs": [
    {
     "name": "stdout",
     "output_type": "stream",
     "text": [
      "Counter({'a': 4, 's': 3, 'h': 3, 'j': 3, 'd': 2, 'f': 2, 'l': 2, 'u': 1, 'i': 1, 'w': 1, 'e': 1, 'r': 1, 'k': 1})\n",
      "[('a', 4), ('s', 3), ('h', 3)]\n"
     ]
    }
   ],
   "source": [
    "# Example of Counter \n",
    "from collections import Counter \n",
    "c1 = Counter([2, 5, 6, 3, 2, 7, 9])\n",
    "c2 = Counter('dsafhjauiwerhlasdjfhalkjs')\n",
    "\n",
    "# Print most common results in c2\n",
    "print(c2)\n",
    "print(c2.most_common(3))"
   ]
  },
  {
   "cell_type": "code",
   "execution_count": 14,
   "metadata": {},
   "outputs": [
    {
     "data": {
      "text/plain": [
       "Counter({'how': 1,\n",
       "         'many': 1,\n",
       "         'times': 1,\n",
       "         'each': 1,\n",
       "         'word': 1,\n",
       "         'is': 2,\n",
       "         'written': 1,\n",
       "         'in': 1,\n",
       "         'this': 2,\n",
       "         'sentence': 1,\n",
       "         'i': 1,\n",
       "         'can': 1,\n",
       "         'easily': 1,\n",
       "         'count,': 1,\n",
       "         'but': 1,\n",
       "         'what': 1,\n",
       "         'was': 1,\n",
       "         'a': 1,\n",
       "         'document': 1})"
      ]
     },
     "execution_count": 14,
     "metadata": {},
     "output_type": "execute_result"
    }
   ],
   "source": [
    "text = \"\"\"how many times each word is written in this sentence? I can easily count, but what is this was a document? \"\"\"\n",
    "\n",
    "Counter(text.lower().replace('?', '').strip().split(' '))"
   ]
  },
  {
   "cell_type": "code",
   "execution_count": 1,
   "metadata": {},
   "outputs": [],
   "source": [
    "sent = 'I went to the store to get some food.  The food was good, but then the store closed.  I then went home to get some more.'"
   ]
  },
  {
   "cell_type": "code",
   "execution_count": 3,
   "metadata": {},
   "outputs": [
    {
     "data": {
      "text/plain": [
       "Counter({'i': 2,\n",
       "         'went': 2,\n",
       "         'to': 3,\n",
       "         'the': 3,\n",
       "         'store': 2,\n",
       "         'get': 2,\n",
       "         'some': 2,\n",
       "         'food': 2,\n",
       "         '': 2,\n",
       "         'was': 1,\n",
       "         'good': 1,\n",
       "         'but': 1,\n",
       "         'then': 2,\n",
       "         'closed': 1,\n",
       "         'home': 1,\n",
       "         'more': 1})"
      ]
     },
     "execution_count": 3,
     "metadata": {},
     "output_type": "execute_result"
    }
   ],
   "source": [
    "from collections import Counter \n",
    "import re\n",
    "sent_clean = re.sub(r'[^\\w\\s]','', sent).lower().strip().split(' ')\n",
    "a = Counter(sent_clean)\n",
    "a"
   ]
  },
  {
   "cell_type": "code",
   "execution_count": null,
   "metadata": {},
   "outputs": [],
   "source": []
  }
 ],
 "metadata": {
  "kernelspec": {
   "display_name": "Python 3",
   "language": "python",
   "name": "python3"
  },
  "language_info": {
   "codemirror_mode": {
    "name": "ipython",
    "version": 3
   },
   "file_extension": ".py",
   "mimetype": "text/x-python",
   "name": "python",
   "nbconvert_exporter": "python",
   "pygments_lexer": "ipython3",
   "version": "3.7.4"
  }
 },
 "nbformat": 4,
 "nbformat_minor": 2
}
